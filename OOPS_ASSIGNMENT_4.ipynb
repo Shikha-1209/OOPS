{
  "nbformat": 4,
  "nbformat_minor": 0,
  "metadata": {
    "colab": {
      "provenance": []
    },
    "kernelspec": {
      "name": "python3",
      "display_name": "Python 3"
    },
    "language_info": {
      "name": "python"
    }
  },
  "cells": [
    {
      "cell_type": "markdown",
      "source": [
        "# **THEORY QUESTIONS**"
      ],
      "metadata": {
        "id": "veMVwFjVJgp1"
      }
    },
    {
      "cell_type": "markdown",
      "source": [
        "1.What is Object-Oriented Programming (OOP)?\n",
        "\n",
        "Object-Oriented Programming (OOP) is a programming paradigm based on the concept of \"objects\", which can contain data and code. It emphasizes organizing code into reusable and modular components."
      ],
      "metadata": {
        "id": "XgAEx2vGJljR"
      }
    },
    {
      "cell_type": "markdown",
      "source": [
        "2.What is a class in OOP?\n",
        "\n",
        "A class in OOP is a blueprint or template for creating objects. It defines the attributes (data) and methods (functions) that the objects created from the class will have. Classes help organize and structure code by grouping data and behavior together for objects of a certain kind."
      ],
      "metadata": {
        "id": "tWQ9EUrCJ4Kr"
      }
    },
    {
      "cell_type": "markdown",
      "source": [
        "3.What is an object in OOP?\n",
        "\n",
        "In OOP, an object is an instance of a class. It is a concrete entity created from the blueprint defined by the class, with its own specific data values."
      ],
      "metadata": {
        "id": "1viYZtEVKGEn"
      }
    },
    {
      "cell_type": "markdown",
      "source": [
        "4.What is the difference between abstraction and encapsulation?\n",
        "\n",
        "Abstraction is the process of hiding complex implementation details and showing only the essential features or functionality to the user. It answers \"what\" an object does."
      ],
      "metadata": {
        "id": "hayFDNl6KXlD"
      }
    },
    {
      "cell_type": "markdown",
      "source": [
        "5.What are dunder methods in Python?\n",
        "\n",
        "Dunder methods in Python are special predefined methods whose names start and end with double underscores (e.g.,_ __init _ __) of objects with built-in operations like initialization, addition, string representation, etc. These methods are called implicitly by Python in response to certain actions on objects."
      ],
      "metadata": {
        "id": "K912iaF-KmmN"
      }
    },
    {
      "cell_type": "markdown",
      "source": [
        "6.Explain the concept of inheritance in OOP.\n",
        "\n",
        "Inheritance in OOP is a mechanism where a new class (called subclass or child class) inherits properties and behaviors (attributes and methods) from an existing class (called superclass or parent class). It promotes code reuse and establishes a hierarchy between classes, allowing the subclass to extend or modify the inherited functionality."
      ],
      "metadata": {
        "id": "JIhcrS1ALKGA"
      }
    },
    {
      "cell_type": "markdown",
      "source": [
        "7.What is polymorphism in OOP?\n",
        "\n",
        "Polymorphism in OOP means \"many forms.\" It allows objects of different classes to be treated as objects of a common superclass, enabling a single interface to represent different underlying types. This allows for more flexible and reusable code."
      ],
      "metadata": {
        "id": "yqiJNt--LWTd"
      }
    },
    {
      "cell_type": "markdown",
      "source": [
        "8.How is encapsulation achieved in Python?\n",
        "\n",
        "Encapsulation in Python is achieved by bundling data (attributes) and methods that work on the data within a class and restricting direct access to some of the object's components using naming conventions like single underscore _ for protected and double underscore _ _ for private members. This controls and protects data by allowing access only through public methods (getters/setters), ensuring data hiding and security."
      ],
      "metadata": {
        "id": "q9Q_bEYnLe0O"
      }
    },
    {
      "cell_type": "markdown",
      "source": [
        "9.What is a constructor in Python?\n",
        "\n",
        "A constructor in Python is a special method named _ _ _init_ _ _() that is automatically called when a new object of a class is created. Its main purpose is to initialize the object's attributes and set up the initial state of the object."
      ],
      "metadata": {
        "id": "twMaVyxSLso_"
      }
    },
    {
      "cell_type": "markdown",
      "source": [
        "10.What are class and static methods in Python?\n",
        "\n",
        "- Class methods are methods that receive the class itself as the first argument (cls), declared with the classmethod decorator. They can access and modify class-level data and are often used for alternative constructors or operations related to the whole class.\n",
        "\n",
        "- Static methods do not receive self or cls as parameters and are declared with the staticmethod decorator. They cannot access or modify the class or instance state and are typically used for utility functions related to the class but independent of class or instance data."
      ],
      "metadata": {
        "id": "s3RUSXCEMAhr"
      }
    },
    {
      "cell_type": "markdown",
      "source": [
        "11.What is method overloading in Python?\n",
        "\n",
        "Method overloading in Python refers to the ability to define multiple methods with the same name but different parameters in the same class. However, Python does not support traditional method overloading by default; instead, only the last defined method with a given name is used."
      ],
      "metadata": {
        "id": "9lenXCMqMX32"
      }
    },
    {
      "cell_type": "markdown",
      "source": [
        "12.What is method overriding in OOP?\n",
        "\n",
        "Method overriding in OOP is when a subclass provides a new implementation of a method that is already defined in its superclass. The method in the subclass has the same name, parameters, and return type as in the parent class, replacing or extending the behavior of the inherited method.\n",
        "\n",
        "This allows polymorphism, where the method that gets executed depends on the object's actual type at runtime, enabling flexible and dynamic method behavior in subclasses."
      ],
      "metadata": {
        "id": "6YsyqT6MMiVR"
      }
    },
    {
      "cell_type": "markdown",
      "source": [
        "13.What is a property decorator in Python?\n",
        "\n",
        "A property decorator in Python, denoted by @property, is a built-in decorator that allows a method to be accessed like an attribute. It provides a way to define getter, setter, and deleter methods for class attributes, enabling controlled access to private variables while keeping syntax clean and intuitive. This helps implement encapsulation and data validation without changing how attributes are accessed or modified externally"
      ],
      "metadata": {
        "id": "u0ZVLoHkMq_v"
      }
    },
    {
      "cell_type": "markdown",
      "source": [
        "14. Why is polymorphism important in OOP?\n",
        "\n",
        "Polymorphism is important in OOP because it allows objects of different classes to be treated through a common interface, enabling flexible and reusable code. It promotes code generalization and scalability by allowing the same operation to behave differently on different classes, supporting dynamic method binding and extensibility.\n",
        "\n",
        "This leads to easier maintenance, improved code readability, and the ability to write programs that work with objects of multiple types seamlessly."
      ],
      "metadata": {
        "id": "15JE8DKoM86V"
      }
    },
    {
      "cell_type": "markdown",
      "source": [
        "15.What is an abstract class in Python?\n",
        "\n",
        "An abstract class in Python is a class that cannot be instantiated directly and is designed to serve as a blueprint for other classes. It often contains one or more abstract methods—methods declared but not implemented—that must be implemented by any subclass. Abstract classes enforce a consistent interface for subclasses and help achieve abstraction in object-oriented programming.\n",
        "\n",
        "Python provides the abc module to define abstract classes and abstract methods using the ABC base class and the @abstractmethod decorator."
      ],
      "metadata": {
        "id": "oSFih8KdNISB"
      }
    },
    {
      "cell_type": "markdown",
      "source": [
        "16.What are the advantages of OOP?\n",
        "\n",
        "The advantages of Object-Oriented Programming (OOP) include:\n",
        "\n",
        "- Modularity: Code is organized into discrete classes and objects, making it easier to manage and understand.\n",
        "\n",
        "- Reusability: Classes and objects can be reused across programs, reducing redundancy and development time.\n",
        "\n",
        "- Scalability: OOP allows for easier expansion and maintenance of complex programs through inheritance and polymorphism.\n",
        "\n",
        "- Encapsulation: Data and methods are bundled together, protecting the internal state and exposing only necessary parts.\n",
        "\n",
        "- Abstraction: Complex implementation details are hidden, exposing only essential features to users."
      ],
      "metadata": {
        "id": "yXl-ohwcNSt6"
      }
    },
    {
      "cell_type": "markdown",
      "source": [
        "17.What is the difference between a class variable and an instance variable?\n",
        "\n",
        "Class Variable:\n",
        "\n",
        "- Defined at the class level, outside any instance methods.\n",
        "\n",
        "- Shared by all instances of the class. Changes to a class variable affect all instances.\n",
        "\n",
        "- Used for data or properties common to all instances.\n",
        "\n",
        "Instance Variable:\n",
        "\n",
        "- Defined inside instance methods, typically in __init__ using self.\n",
        "\n",
        "- Unique to each instance of the class; each object has its own copy.\n",
        "\n",
        "- Used for data specific to each object."
      ],
      "metadata": {
        "id": "JUQ8j-vSNnAh"
      }
    },
    {
      "cell_type": "markdown",
      "source": [
        "18.What is multiple inheritance in Python?\n",
        "\n",
        "Multiple inheritance in Python is a feature where a class (called the child class) can inherit attributes and methods from more than one parent class. This allows the child class to combine functionality from multiple classes, enabling more complex and flexible designs."
      ],
      "metadata": {
        "id": "yud2J-8CN5z_"
      }
    },
    {
      "cell_type": "markdown",
      "source": [
        "19.Explain the purpose of ‘’__str__’ and ‘__repr__’ ‘ methods in Python.\n",
        "\n",
        "_ __*str*_ _ _:\n",
        "\n",
        "Provides a user-friendly, informal string representation of the object. It is called by functions like str() and print(). This representation should be readable and concise, meant for easy understanding by end-users.\n",
        "\n",
        "_ __*repr*_ _ _:\n",
        "\n",
        "Provides an official, unambiguous string representation of the object, aimed at developers. It is called by the repr() function and in the interactive interpreter. The output of _ __repr_ _ _ is ideally a valid Python expression that can recreate the object if fed back to Python."
      ],
      "metadata": {
        "id": "mNEh-n3LOCcJ"
      }
    },
    {
      "cell_type": "markdown",
      "source": [
        "20.What is the significance of the ‘super()’ function in Python?\n",
        "\n",
        "The significance of the super() function in Python is that it allows a subclass to call methods (including constructors) from its parent class without explicitly naming it. This is especially useful in inheritance to:\n",
        "\n",
        "- Extend or customize the behavior of the superclass.\n",
        "\n",
        "- Facilitate code reuse and avoid duplication.\n",
        "\n",
        "- Work correctly with multiple inheritance, following the method resolution order (MRO).\n",
        "\n",
        "- Make maintenance easier by not hardcoding the parent class name, allowing changes in the class hierarchy without changing method calls."
      ],
      "metadata": {
        "id": "aPc9xUjqOlam"
      }
    },
    {
      "cell_type": "markdown",
      "source": [
        "21.What is the significance of the __del__ method in Python?\n",
        "\n",
        "The significance of the __del__ method in Python is that it is a special method called when an object is about to be destroyed by the garbage collector. It acts as a destructor, allowing the object to perform cleanup actions like releasing external resources (files, network connections) before the object is removed from memory.\n",
        "\n",
        "Summary:\n",
        "\n",
        "- Called before an object is destroyed.\n",
        "\n",
        "- Used for cleanup tasks.\n",
        "\n",
        "- Execution timing is non-deterministic."
      ],
      "metadata": {
        "id": "Zm2QnF5XO08b"
      }
    },
    {
      "cell_type": "markdown",
      "source": [
        "22.What is the difference between @staticmethod and @classmethod in Python?\n",
        "\n",
        "The difference between @staticmethod and @classmethod in Python is:\n",
        "\n",
        "@staticmethod:\n",
        "\n",
        "- Does not take self or cls as the first parameter.\n",
        "\n",
        "- Cannot access or modify class or instance-specific data.\n",
        "\n",
        "- Behaves like a regular function but belongs to the class's namespace.\n",
        "\n",
        "- Used for utility functions related to the class but independent from class or instance state.\n",
        "\n",
        "@classmethod:\n",
        "\n",
        "- Takes cls (the class itself) as the first parameter.\n",
        "\n",
        "- Can access and modify class-level data or state.\n",
        "\n",
        "- Often used for alternative constructors or methods that act on the class rather than instances.\n",
        "\n",
        "- Behaves polymorphically with inheritance; when called on a subclass, cls refers to the subclass."
      ],
      "metadata": {
        "id": "VaMbybKaPIIR"
      }
    },
    {
      "cell_type": "markdown",
      "source": [
        "23.How does polymorphism work in Python with inheritance?\n",
        "\n",
        "Polymorphism in Python with inheritance allows objects of different subclasses to be treated as instances of their common parent class. It works by overriding methods in child classes, so when a method is called on an object, the version of the method corresponding to the actual object's class is executed.\n",
        "\n",
        "This means the same method name can behave differently depending on which subclass instance calls it, enabling flexible and reusable code."
      ],
      "metadata": {
        "id": "w9ocz0vZWA6R"
      }
    },
    {
      "cell_type": "markdown",
      "source": [
        "24. What is method chaining in Python OOP?\n",
        "\n",
        "Method chaining in Python OOP is a technique where multiple method calls are linked together in a single line by having each method return the object itself (usually self). This allows invoking several methods sequentially on the same object without breaking the chain or needing intermediate variables.\n",
        "\n",
        "How it works:\n",
        "- Each method performs an operation and returns the current object (self).\n",
        "\n",
        "- The returned object is used to call the next method in the chain.\n",
        "\n",
        "Benefits:\n",
        "- Makes code cleaner and more readable.\n",
        "\n",
        "- Avoids repetitive variable assignments.\n",
        "\n",
        "- Often used in fluent APIs, data processing, and configuration setups."
      ],
      "metadata": {
        "id": "KZ_-jCRKWJ8C"
      }
    },
    {
      "cell_type": "markdown",
      "source": [
        "25.What is the purpose of the __call__ method in Python?\n",
        "\n",
        "The purpose of the _ __call_ _ _ method in Python is to allow an instance of a class to be called like a function. When the _ _ call _ _ method is defined in a class, its objects become callable, meaning you can use parentheses () on the object itself to invoke the method.\n",
        "\n",
        "This makes instances behave like functions and enables flexible and reusable code, such as encapsulating functionality, creating function-like objects, and implementing decorators."
      ],
      "metadata": {
        "id": "sjqm1Z3HWYmb"
      }
    },
    {
      "cell_type": "markdown",
      "source": [
        "# **PRACTICAL QUESTIONS**"
      ],
      "metadata": {
        "id": "KnUwKTSaWn2S"
      }
    },
    {
      "cell_type": "markdown",
      "source": [
        "1.Create a parent class Animal with a method speak() that prints a generic message. Create a child class Dog\n",
        "that overrides the speak() method to print \"Bark!\"."
      ],
      "metadata": {
        "id": "VN9GjkALWrbe"
      }
    },
    {
      "cell_type": "code",
      "source": [
        "class Animal:\n",
        "    def speak(self):\n",
        "        print(\"Generic animal sound\")\n",
        "\n",
        "class Dog(Animal):\n",
        "    def speak(self):\n",
        "        print(\"Bark!\")\n",
        "\n",
        "animal = Animal()\n",
        "animal.speak()\n",
        "\n",
        "dog = Dog()\n",
        "dog.speak()"
      ],
      "metadata": {
        "colab": {
          "base_uri": "https://localhost:8080/"
        },
        "id": "M4xummh6bryS",
        "outputId": "fff77bc5-edc4-45cc-8bbd-3b04406863f2"
      },
      "execution_count": 3,
      "outputs": [
        {
          "output_type": "stream",
          "name": "stdout",
          "text": [
            "Generic animal sound\n",
            "Bark!\n"
          ]
        }
      ]
    },
    {
      "cell_type": "markdown",
      "source": [
        "2.Write a program to create an abstract class Shape with a method area(). Derive classes Circle and Rectangle\n",
        "from it and implement the area() method in both."
      ],
      "metadata": {
        "id": "ICWCA-aBb5I2"
      }
    },
    {
      "cell_type": "code",
      "source": [
        "from abc import ABC, abstractmethod\n",
        "\n",
        "class Shape(ABC):\n",
        "    @abstractmethod\n",
        "    def area(self):\n",
        "        pass\n",
        "\n",
        "class Circle(Shape):\n",
        "    def __init__(self, radius):\n",
        "        self.radius = radius\n",
        "\n",
        "    def area(self):\n",
        "        return 3.14 * self.radius * self.radius\n",
        "\n",
        "class Rectangle(Shape):\n",
        "    def __init__(self, length, width):\n",
        "        self.length = length\n",
        "        self.width = width\n",
        "\n",
        "    def area(self):\n",
        "        return self.length * self.width\n",
        "\n",
        "# Example usage\n",
        "# shape = Shape() # This would raise a TypeError because Shape is abstract\n",
        "\n",
        "circle = Circle(7)\n",
        "print(f\"Area of Circle: {circle.area()}\")\n",
        "\n",
        "rectangle = Rectangle(5, 6)\n",
        "print(f\"Area of Rectangle: {rectangle.area()}\")"
      ],
      "metadata": {
        "colab": {
          "base_uri": "https://localhost:8080/"
        },
        "id": "bexagd00cJPi",
        "outputId": "6fb61955-43a7-4a4a-8585-ae9b3ae5a0ea"
      },
      "execution_count": 4,
      "outputs": [
        {
          "output_type": "stream",
          "name": "stdout",
          "text": [
            "Area of Circle: 153.86\n",
            "Area of Rectangle: 30\n"
          ]
        }
      ]
    },
    {
      "cell_type": "markdown",
      "source": [
        "3. Implement a multi-level inheritance scenario where a class Vehicle has an attribute type. Derive a class Car\n",
        "and further derive a class ElectricCar that adds a battery attribute."
      ],
      "metadata": {
        "id": "3GtQZZbZcSA9"
      }
    },
    {
      "cell_type": "code",
      "metadata": {
        "colab": {
          "base_uri": "https://localhost:8080/"
        },
        "id": "041df42e",
        "outputId": "ffca58cc-fc42-4a5c-a215-5da7a3b54563"
      },
      "source": [
        "class Vehicle:\n",
        "    def __init__(self, vehicle_type):\n",
        "        self.type = vehicle_type\n",
        "\n",
        "    def display_type(self):\n",
        "        print(f\"Vehicle Type: {self.type}\")\n",
        "\n",
        "class Car(Vehicle):\n",
        "    def __init__(self, vehicle_type, model):\n",
        "        super().__init__(vehicle_type)\n",
        "        self.model = model\n",
        "\n",
        "    def display_model(self):\n",
        "        print(f\"Model: {self.model}\")\n",
        "\n",
        "class ElectricCar(Car):\n",
        "    def __init__(self, vehicle_type, model, battery_size):\n",
        "        super().__init__(vehicle_type, model)\n",
        "        self.battery = battery_size\n",
        "\n",
        "    def display_battery(self):\n",
        "        print(f\"Battery Size: {self.battery} kWh\")\n",
        "\n",
        "vehicle = Vehicle(\"Generic\")\n",
        "vehicle.display_type()\n",
        "\n",
        "car = Car(\"Sedan\", \"Accord\")\n",
        "car.display_type()\n",
        "car.display_model()\n",
        "\n",
        "electric_car = ElectricCar(\"Sedan\", \"Model 5\", 85)\n",
        "electric_car.display_type()\n",
        "electric_car.display_model()\n",
        "electric_car.display_battery()"
      ],
      "execution_count": 9,
      "outputs": [
        {
          "output_type": "stream",
          "name": "stdout",
          "text": [
            "Vehicle Type: Generic\n",
            "Vehicle Type: Sedan\n",
            "Model: Accord\n",
            "Vehicle Type: Sedan\n",
            "Model: Model 5\n",
            "Battery Size: 85 kWh\n"
          ]
        }
      ]
    },
    {
      "cell_type": "markdown",
      "source": [
        "4. Demonstrate polymorphism by creating a base class Bird with a method fly(). Create two derived classes\n",
        "Sparrow and Penguin that override the fly() method.\n"
      ],
      "metadata": {
        "id": "Op1-DPHuc5mI"
      }
    },
    {
      "cell_type": "code",
      "source": [
        "class Bird:\n",
        "    def fly(self):\n",
        "        print(\"Most birds can fly\")\n",
        "\n",
        "class Sparrow(Bird):\n",
        "    def fly(self):\n",
        "        print(\"Sparrows can fly short distances quickly\")\n",
        "\n",
        "class Penguin(Bird):\n",
        "    def fly(self):\n",
        "        print(\"Penguins cannot fly, but they can swim\")\n",
        "\n",
        "\n",
        "birds = [Bird(), Sparrow(), Penguin()]\n",
        "\n",
        "for bird in birds:\n",
        "    bird.fly()"
      ],
      "metadata": {
        "colab": {
          "base_uri": "https://localhost:8080/"
        },
        "id": "ENTugze8c8vH",
        "outputId": "19d9943c-90e8-41e1-c171-ddb1852bf730"
      },
      "execution_count": 10,
      "outputs": [
        {
          "output_type": "stream",
          "name": "stdout",
          "text": [
            "Most birds can fly\n",
            "Sparrows can fly short distances quickly\n",
            "Penguins cannot fly, but they can swim\n"
          ]
        }
      ]
    },
    {
      "cell_type": "markdown",
      "source": [
        "5.Write a program to demonstrate encapsulation by creating a class BankAccount with private attributes\n",
        "balance and methods to deposit, withdraw, and check balance."
      ],
      "metadata": {
        "id": "_E5IJ5ypdIDV"
      }
    },
    {
      "cell_type": "code",
      "source": [
        "class BankAccount:\n",
        "    def __init__(self, initial_balance=0):\n",
        "        self.__balance = initial_balance  # Private attribute\n",
        "\n",
        "    def deposit(self, amount):\n",
        "        if amount > 0:\n",
        "            self.__balance += amount\n",
        "            print(f\"Deposited: ${amount}. New balance: ${self.__balance}\")\n",
        "        else:\n",
        "            print(\"Deposit amount must be positive.\")\n",
        "\n",
        "    def withdraw(self, amount):\n",
        "        if 0 < amount <= self.__balance:\n",
        "            self.__balance -= amount\n",
        "            print(f\"Withdrew: ${amount}. New balance: ${self.__balance}\")\n",
        "        elif amount > self.__balance:\n",
        "            print(\"Insufficient funds.\")\n",
        "        else:\n",
        "            print(\"Withdrawal amount must be positive.\")\n",
        "\n",
        "    def get_balance(self):\n",
        "        return self.__balance\n",
        "\n",
        "account = BankAccount(100)\n",
        "account.deposit(50)\n",
        "account.withdraw(20)\n",
        "account.withdraw(200) # Insufficient funds\n",
        "print(f\"Current balance: ${account.get_balance()}\")\n",
        "\n",
        "# print(account.__balance) # Removed direct access to the private attribute"
      ],
      "metadata": {
        "colab": {
          "base_uri": "https://localhost:8080/"
        },
        "id": "0aHez1UUdKsS",
        "outputId": "d4882d0f-48fe-4b44-ec79-9241e1eac81c"
      },
      "execution_count": 12,
      "outputs": [
        {
          "output_type": "stream",
          "name": "stdout",
          "text": [
            "Deposited: $50. New balance: $150\n",
            "Withdrew: $20. New balance: $130\n",
            "Insufficient funds.\n",
            "Current balance: $130\n"
          ]
        }
      ]
    },
    {
      "cell_type": "markdown",
      "source": [
        "6. Demonstrate runtime polymorphism using a method play() in a base class Instrument. Derive classes Guitar\n",
        "and Piano that implement their own version of play()."
      ],
      "metadata": {
        "id": "YJyR5LKvfb0s"
      }
    },
    {
      "cell_type": "code",
      "source": [
        "class Instrument:\n",
        "    def play(self):\n",
        "        print(\"Playing an instrument\")\n",
        "\n",
        "class Guitar(Instrument):\n",
        "    def play(self):\n",
        "        print(\"Playing the guitar\")\n",
        "\n",
        "class Piano(Instrument):\n",
        "    def play(self):\n",
        "        print(\"Playing the piano\")\n",
        "\n",
        "instruments = [Instrument(), Guitar(), Piano()]\n",
        "\n",
        "for instrument in instruments:\n",
        "    instrument.play()"
      ],
      "metadata": {
        "colab": {
          "base_uri": "https://localhost:8080/"
        },
        "id": "drXg1-WiffR3",
        "outputId": "e011507e-6078-4f5f-8c69-81f8bc2c25c8"
      },
      "execution_count": 13,
      "outputs": [
        {
          "output_type": "stream",
          "name": "stdout",
          "text": [
            "Playing an instrument\n",
            "Playing the guitar\n",
            "Playing the piano\n"
          ]
        }
      ]
    },
    {
      "cell_type": "markdown",
      "source": [
        "7.Create a class MathOperations with a class method add_numbers() to add two numbers and a static\n",
        "method subtract_numbers() to subtract two numbers."
      ],
      "metadata": {
        "id": "1vi97kTlfmXg"
      }
    },
    {
      "cell_type": "code",
      "source": [
        "class MathOperations:\n",
        "    @classmethod\n",
        "    def add_numbers(cls, x, y):\n",
        "        \"\"\"Class method to add two numbers.\"\"\"\n",
        "        return x + y\n",
        "\n",
        "    @staticmethod\n",
        "    def subtract_numbers(x, y):\n",
        "        \"\"\"Static method to subtract two numbers.\"\"\"\n",
        "        return x - y\n",
        "\n",
        "print(f\"Addition result (class method): {MathOperations.add_numbers(10, 5)}\")\n",
        "print(f\"Subtraction result (static method): {MathOperations.subtract_numbers(10, 5)}\")"
      ],
      "metadata": {
        "colab": {
          "base_uri": "https://localhost:8080/"
        },
        "id": "p5fN_YNrfpml",
        "outputId": "973a7ec2-5cef-48c6-fb9a-0cf0d664d8dd"
      },
      "execution_count": 14,
      "outputs": [
        {
          "output_type": "stream",
          "name": "stdout",
          "text": [
            "Addition result (class method): 15\n",
            "Subtraction result (static method): 5\n"
          ]
        }
      ]
    },
    {
      "cell_type": "markdown",
      "source": [
        "8. Implement a class Person with a class method to count the total number of persons created."
      ],
      "metadata": {
        "id": "dt-iSz83fxQz"
      }
    },
    {
      "cell_type": "code",
      "source": [
        "class Person:\n",
        "    total_persons = 0  # Class variable to keep track of the count\n",
        "\n",
        "    def __init__(self, name):\n",
        "        self.name = name\n",
        "        Person.total_persons += 1  # Increment the class variable on each new instance\n",
        "\n",
        "    @classmethod\n",
        "    def get_total_persons(cls):\n",
        "        \"\"\"Class method to get the total number of persons created.\"\"\"\n",
        "        return cls.total_persons\n",
        "\n",
        "person1 = Person(\"Alice\")\n",
        "person2 = Person(\"Bob\")\n",
        "person3 = Person(\"Charlie\")\n",
        "\n",
        "print(f\"Total number of persons created: {Person.get_total_persons()}\")"
      ],
      "metadata": {
        "colab": {
          "base_uri": "https://localhost:8080/"
        },
        "id": "Q937TPASf27D",
        "outputId": "9dfaa0e1-c2fe-49f2-fef5-b54b6d2821c0"
      },
      "execution_count": 15,
      "outputs": [
        {
          "output_type": "stream",
          "name": "stdout",
          "text": [
            "Total number of persons created: 3\n"
          ]
        }
      ]
    },
    {
      "cell_type": "markdown",
      "source": [
        "9. Write a class Fraction with attributes numerator and denominator. Override the str method to display the\n",
        "fraction as \"numerator/denominator\"."
      ],
      "metadata": {
        "id": "xXLz7M-uf8yW"
      }
    },
    {
      "cell_type": "code",
      "source": [
        "class Fraction:\n",
        "    def __init__(self, numerator, denominator):\n",
        "        if denominator == 0:\n",
        "            raise ValueError(\"Denominator cannot be zero.\")\n",
        "        self.numerator = numerator\n",
        "        self.denominator = denominator\n",
        "\n",
        "    def __str__(self):\n",
        "        \"\"\"Override the string representation to display as numerator/denominator.\"\"\"\n",
        "        return f\"{self.numerator}/{self.denominator}\"\n",
        "\n",
        "fraction1 = Fraction(3, 4)\n",
        "print(fraction1)\n",
        "\n",
        "fraction2 = Fraction(1, 2)\n",
        "print(fraction2)"
      ],
      "metadata": {
        "colab": {
          "base_uri": "https://localhost:8080/"
        },
        "id": "arQHu7Y0gAyn",
        "outputId": "3183415e-93f3-4e96-8428-04dddc500f7c"
      },
      "execution_count": 16,
      "outputs": [
        {
          "output_type": "stream",
          "name": "stdout",
          "text": [
            "3/4\n",
            "1/2\n"
          ]
        }
      ]
    },
    {
      "cell_type": "markdown",
      "source": [
        "10.Demonstrate operator overloading by creating a class Vector and overriding the add method to add two\n",
        "vectors."
      ],
      "metadata": {
        "id": "IytvLH2HgGn_"
      }
    },
    {
      "cell_type": "code",
      "source": [
        "class Vector:\n",
        "    def __init__(self, x, y):\n",
        "        self.x = x\n",
        "        self.y = y\n",
        "\n",
        "    def __str__(self):\n",
        "        return f\"Vector({self.x}, {self.y})\"\n",
        "\n",
        "    def __add__(self, other):\n",
        "        \"\"\"Overrides the addition operator (+) for Vector objects.\"\"\"\n",
        "        if isinstance(other, Vector):\n",
        "            return Vector(self.x + other.x, self.y + other.y)\n",
        "        else:\n",
        "            raise TypeError(\"Can only add a Vector object to another Vector object.\")\n",
        "\n",
        "# Example usage\n",
        "vector1 = Vector(2, 3)\n",
        "vector2 = Vector(1, 4)\n",
        "\n",
        "vector3 = vector1 + vector2\n",
        "print(f\"{vector1} + {vector2} = {vector3}\")"
      ],
      "metadata": {
        "colab": {
          "base_uri": "https://localhost:8080/"
        },
        "id": "kAMo5UtUgKsi",
        "outputId": "b1eb104c-6ba0-4315-8e87-a221222556e9"
      },
      "execution_count": 17,
      "outputs": [
        {
          "output_type": "stream",
          "name": "stdout",
          "text": [
            "Vector(2, 3) + Vector(1, 4) = Vector(3, 7)\n"
          ]
        }
      ]
    },
    {
      "cell_type": "markdown",
      "source": [
        "11. Create a class Person with attributes name and age. Add a method greet() that prints \"Hello, my name is\n",
        "{name} and I am {age} years old.\""
      ],
      "metadata": {
        "id": "y2kxHqYqgR_g"
      }
    },
    {
      "cell_type": "code",
      "source": [
        "class Person:\n",
        "    def __init__(self, name, age):\n",
        "        self.name = name\n",
        "        self.age = age\n",
        "\n",
        "    def greet(self):\n",
        "        print(f\"Hello, my name is {self.name} and I am {self.age} years old.\")\n",
        "\n",
        "# Example usage\n",
        "person1 = Person(\"Alice\", 30)\n",
        "person1.greet()\n",
        "\n",
        "person2 = Person(\"Bob\", 25)\n",
        "person2.greet()"
      ],
      "metadata": {
        "colab": {
          "base_uri": "https://localhost:8080/"
        },
        "id": "fe4m0GgfgV1t",
        "outputId": "49468a68-dbd5-439c-a5e8-65f13835abfd"
      },
      "execution_count": 18,
      "outputs": [
        {
          "output_type": "stream",
          "name": "stdout",
          "text": [
            "Hello, my name is Alice and I am 30 years old.\n",
            "Hello, my name is Bob and I am 25 years old.\n"
          ]
        }
      ]
    },
    {
      "cell_type": "markdown",
      "source": [
        "12.Implement a class Student with attributes name and grades. Create a method average_grade() to compute\n",
        "the average of the grades."
      ],
      "metadata": {
        "id": "QQ263zY7gaQu"
      }
    },
    {
      "cell_type": "code",
      "source": [
        "class Student:\n",
        "    def __init__(self, name, grades):\n",
        "        self.name = name\n",
        "        self.grades = grades\n",
        "\n",
        "    def average_grade(self):\n",
        "        if not self.grades:\n",
        "            return 0  # Return 0 if there are no grades\n",
        "        return sum(self.grades) / len(self.grades)\n",
        "\n",
        "student1 = Student(\"Alice\", [85, 90, 92, 88])\n",
        "print(f\"{student1.name}'s average grade: {student1.average_grade():.2f}\")\n",
        "\n",
        "student2 = Student(\"Bob\", [75, 80, 78])\n",
        "print(f\"{student2.name}'s average grade: {student2.average_grade():.2f}\")\n",
        "\n",
        "student3 = Student(\"Charlie\", [])\n",
        "print(f\"{student3.name}'s average grade: {student3.average_grade():.2f}\")"
      ],
      "metadata": {
        "colab": {
          "base_uri": "https://localhost:8080/"
        },
        "id": "GsoXzPVegele",
        "outputId": "e342cb70-036c-47d9-846d-408ca5f257b1"
      },
      "execution_count": 19,
      "outputs": [
        {
          "output_type": "stream",
          "name": "stdout",
          "text": [
            "Alice's average grade: 88.75\n",
            "Bob's average grade: 77.67\n",
            "Charlie's average grade: 0.00\n"
          ]
        }
      ]
    },
    {
      "cell_type": "markdown",
      "source": [
        "13.Create a class Rectangle with methods set_dimensions() to set the dimensions and area() to calculate the\n",
        "area."
      ],
      "metadata": {
        "id": "a0DgEqpOgkYo"
      }
    },
    {
      "cell_type": "code",
      "source": [
        "class Rectangle:\n",
        "    def __init__(self):\n",
        "        self.length = 0\n",
        "        self.width = 0\n",
        "\n",
        "    def set_dimensions(self, length, width):\n",
        "        if length >= 0 and width >= 0:\n",
        "            self.length = length\n",
        "            self.width = width\n",
        "        else:\n",
        "            print(\"Dimensions must be non-negative.\")\n",
        "\n",
        "    def area(self):\n",
        "        return self.length * self.width\n",
        "\n",
        "\n",
        "rectangle = Rectangle()\n",
        "rectangle.set_dimensions(5, 10)\n",
        "print(f\"The area of the rectangle is: {rectangle.area()}\")\n",
        "\n",
        "rectangle.set_dimensions(3, 7)\n",
        "print(f\"The area of the rectangle is: {rectangle.area()}\")\n",
        "\n",
        "rectangle.set_dimensions(-2, 5) # Invalid dimensions\n",
        "print(f\"The area of the rectangle is: {rectangle.area()}\") # Area remains from previous valid setting"
      ],
      "metadata": {
        "colab": {
          "base_uri": "https://localhost:8080/"
        },
        "id": "HXHPxd3Ugn5s",
        "outputId": "8131a17d-9065-4c62-b03d-122581de09df"
      },
      "execution_count": 20,
      "outputs": [
        {
          "output_type": "stream",
          "name": "stdout",
          "text": [
            "The area of the rectangle is: 50\n",
            "The area of the rectangle is: 21\n",
            "Dimensions must be non-negative.\n",
            "The area of the rectangle is: 21\n"
          ]
        }
      ]
    },
    {
      "cell_type": "markdown",
      "source": [
        "14.Create a class Employee with a method calculate_salary() that computes the salary based on hours worked\n",
        "and hourly rate. Create a derived class Manager that adds a bonus to the salary."
      ],
      "metadata": {
        "id": "m0pcTy73gwiy"
      }
    },
    {
      "cell_type": "code",
      "source": [
        "class Employee:\n",
        "    def __init__(self, hours_worked, hourly_rate):\n",
        "        self.hours_worked = hours_worked\n",
        "        self.hourly_rate = hourly_rate\n",
        "\n",
        "    def calculate_salary(self):\n",
        "        return self.hours_worked * self.hourly_rate\n",
        "\n",
        "class Manager(Employee):\n",
        "    def __init__(self, hours_worked, hourly_rate, bonus):\n",
        "        super().__init__(hours_worked, hourly_rate)\n",
        "        self.bonus = bonus\n",
        "\n",
        "    def calculate_salary(self):\n",
        "        base_salary = super().calculate_salary()\n",
        "        return base_salary + self.bonus\n",
        "\n",
        "employee = Employee(40, 15)\n",
        "print(f\"Employee salary: ${employee.calculate_salary():.2f}\")\n",
        "\n",
        "manager = Manager(40, 20, 500)\n",
        "print(f\"Manager salary: ${manager.calculate_salary():.2f}\")"
      ],
      "metadata": {
        "colab": {
          "base_uri": "https://localhost:8080/"
        },
        "id": "bIqXlfV5g1p_",
        "outputId": "47dcab91-103a-4d4e-8ac6-a60696242bf4"
      },
      "execution_count": 21,
      "outputs": [
        {
          "output_type": "stream",
          "name": "stdout",
          "text": [
            "Employee salary: $600.00\n",
            "Manager salary: $1300.00\n"
          ]
        }
      ]
    },
    {
      "cell_type": "markdown",
      "source": [
        "15.Create a class Product with attributes name, price, and quantity. Implement a method total_price() that\n",
        "calculates the total price of the product."
      ],
      "metadata": {
        "id": "cdIchV9Hg6xD"
      }
    },
    {
      "cell_type": "code",
      "source": [
        "class Product:\n",
        "    def __init__(self, name, price, quantity):\n",
        "        if price < 0 or quantity < 0:\n",
        "            raise ValueError(\"Price and quantity must be non-negative.\")\n",
        "        self.name = name\n",
        "        self.price = price\n",
        "        self.quantity = quantity\n",
        "\n",
        "    def total_price(self):\n",
        "        return self.price * self.quantity\n",
        "\n",
        "product1 = Product(\"Laptop\", 1200, 2)\n",
        "print(f\"Total price for {product1.name}: ${product1.total_price():.2f}\")\n",
        "\n",
        "product2 = Product(\"Mouse\", 25, 5)\n",
        "print(f\"Total price for {product2.name}: ${product2.total_price():.2f}\")"
      ],
      "metadata": {
        "colab": {
          "base_uri": "https://localhost:8080/"
        },
        "id": "LGf2Gagxg_kQ",
        "outputId": "7815de29-2461-4306-c235-7dea216b0a6b"
      },
      "execution_count": 22,
      "outputs": [
        {
          "output_type": "stream",
          "name": "stdout",
          "text": [
            "Total price for Laptop: $2400.00\n",
            "Total price for Mouse: $125.00\n"
          ]
        }
      ]
    },
    {
      "cell_type": "markdown",
      "source": [
        "16. Create a class Animal with an abstract method sound(). Create two derived classes Cow and Sheep that\n",
        "implement the sound() method."
      ],
      "metadata": {
        "id": "xv69aChBhFiN"
      }
    },
    {
      "cell_type": "code",
      "source": [
        "from abc import ABC, abstractmethod\n",
        "\n",
        "class Animal(ABC):\n",
        "    @abstractmethod\n",
        "    def sound(self):\n",
        "        pass\n",
        "\n",
        "class Cow(Animal):\n",
        "    def sound(self):\n",
        "        return \"Moo\"\n",
        "\n",
        "class Sheep(Animal):\n",
        "    def sound(self):\n",
        "        return \"Baa\"\n",
        "\n",
        "cow = Cow()\n",
        "print(f\"Cow says: {cow.sound()}\")\n",
        "\n",
        "sheep = Sheep()\n",
        "print(f\"Sheep says: {sheep.sound()}\")"
      ],
      "metadata": {
        "colab": {
          "base_uri": "https://localhost:8080/"
        },
        "id": "LL5-N_nehIZl",
        "outputId": "d5ab1c8c-1a6a-434d-c896-76269b1a4638"
      },
      "execution_count": 23,
      "outputs": [
        {
          "output_type": "stream",
          "name": "stdout",
          "text": [
            "Cow says: Moo\n",
            "Sheep says: Baa\n"
          ]
        }
      ]
    },
    {
      "cell_type": "markdown",
      "source": [
        "17.Create a class Book with attributes title, author, and year_published. Add a method get_book_info() that\n",
        "returns a formatted string with the book's details."
      ],
      "metadata": {
        "id": "SsrfWIibhSwH"
      }
    },
    {
      "cell_type": "code",
      "source": [
        "class Book:\n",
        "    def __init__(self, title, author, year_published):\n",
        "        self.title = title\n",
        "        self.author = author\n",
        "        self.year_published = year_published\n",
        "\n",
        "    def get_book_info(self):\n",
        "        \"\"\"Returns a formatted string with the book's details.\"\"\"\n",
        "        return f\"'{self.title}' by {self.author}, published in {self.year_published}\"\n",
        "\n",
        "# Example usage\n",
        "book1 = Book(\"The Hitchhiker's Guide to the Galaxy\", \"Douglas Adams\", 1979)\n",
        "print(book1.get_book_info())\n",
        "\n",
        "book2 = Book(\"Pride and Prejudice\", \"Jane Austen\", 1813)\n",
        "print(book2.get_book_info())"
      ],
      "metadata": {
        "colab": {
          "base_uri": "https://localhost:8080/"
        },
        "id": "o8_Qq5UUhWpU",
        "outputId": "5ff15c49-7b78-473d-f95c-9eafec3132c2"
      },
      "execution_count": 24,
      "outputs": [
        {
          "output_type": "stream",
          "name": "stdout",
          "text": [
            "'The Hitchhiker's Guide to the Galaxy' by Douglas Adams, published in 1979\n",
            "'Pride and Prejudice' by Jane Austen, published in 1813\n"
          ]
        }
      ]
    },
    {
      "cell_type": "markdown",
      "source": [
        "18. Create a class House with attributes address and price. Create a derived class Mansion that adds an\n",
        "attribute number_of_rooms."
      ],
      "metadata": {
        "id": "FTy89oM2helY"
      }
    },
    {
      "cell_type": "code",
      "source": [
        "class House:\n",
        "    def __init__(self, address, price):\n",
        "        self.address = address\n",
        "        self.price = price\n",
        "\n",
        "    def get_house_info(self):\n",
        "        return f\"Address: {self.address}, Price: ${self.price:,.2f}\"\n",
        "\n",
        "class Mansion(House):\n",
        "    def __init__(self, address, price, number_of_rooms):\n",
        "        super().__init__(address, price)\n",
        "        self.number_of_rooms = number_of_rooms\n",
        "\n",
        "    def get_mansion_info(self):\n",
        "        house_info = super().get_house_info()\n",
        "        return f\"{house_info}, Number of Rooms: {self.number_of_rooms}\"\n",
        "\n",
        "house = House(\"123 Main St\", 250000)\n",
        "print(house.get_house_info())\n",
        "\n",
        "mansion = Mansion(\"456 Oak Ave\", 1500000, 10)\n",
        "print(mansion.get_mansion_info())"
      ],
      "metadata": {
        "colab": {
          "base_uri": "https://localhost:8080/"
        },
        "id": "DhHE64vZhjh-",
        "outputId": "bb255080-db07-4da3-a737-28e6da9508b3"
      },
      "execution_count": 25,
      "outputs": [
        {
          "output_type": "stream",
          "name": "stdout",
          "text": [
            "Address: 123 Main St, Price: $250,000.00\n",
            "Address: 456 Oak Ave, Price: $1,500,000.00, Number of Rooms: 10\n"
          ]
        }
      ]
    }
  ]
}